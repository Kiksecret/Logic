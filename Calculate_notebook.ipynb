{
 "cells": [
  {
   "cell_type": "code",
   "execution_count": 26,
   "source": [
    "from logic import *\r\n",
    "import termcolor\r\n",
    "\r\n",
    "Numberformat = Symbol(\"Number Format Exception\")\r\n",
    "Random_r = Symbol(\"Random r = new Random(Double.parseDouble(x))\")\r\n",
    "Dividedzero = Symbol(\"Divided by zero\")\r\n",
    "Double_y = Symbol(\"double y = a / b;\")\r\n",
    "Segmentation = Symbol(\"Segmentation Fault\")\r\n",
    "Lowmemory = Symbol(\"Low Memory\")\r\n",
    "Object_o = Symbol(\"Object o = new Object()\")"
   ],
   "outputs": [],
   "metadata": {}
  },
  {
   "cell_type": "code",
   "execution_count": 27,
   "source": [
    "knowledge = And(\r\n",
    "    Biconditional(Not(Numberformat), Random_r),\r\n",
    "    Biconditional(Dividedzero, Not(Double_y)),\r\n",
    "    Biconditional(Segmentation, Not(Random_r)),\r\n",
    "    And(Lowmemory, Not(Numberformat)),\r\n",
    "    Or(Segmentation, Not(Object_o))\r\n",
    ")"
   ],
   "outputs": [],
   "metadata": {}
  },
  {
   "cell_type": "code",
   "execution_count": 28,
   "source": [
    "symbols = [Numberformat, Dividedzero, Segmentation, Lowmemory]"
   ],
   "outputs": [],
   "metadata": {}
  },
  {
   "cell_type": "code",
   "execution_count": 29,
   "source": [
    "def check_knowledge(knowledge):\r\n",
    "    for s in symbols:\r\n",
    "        if model_check(knowledge, s):\r\n",
    "            termcolor.cprint(f\"{s}\", \"yellow\")"
   ],
   "outputs": [],
   "metadata": {}
  },
  {
   "cell_type": "code",
   "execution_count": 30,
   "source": [
    "check_knowledge(knowledge)"
   ],
   "outputs": [
    {
     "output_type": "stream",
     "name": "stdout",
     "text": [
      "\u001b[33mLow Memory\u001b[0m\n"
     ]
    }
   ],
   "metadata": {}
  }
 ],
 "metadata": {
  "orig_nbformat": 4,
  "language_info": {
   "name": "python",
   "version": "3.8.8",
   "mimetype": "text/x-python",
   "codemirror_mode": {
    "name": "ipython",
    "version": 3
   },
   "pygments_lexer": "ipython3",
   "nbconvert_exporter": "python",
   "file_extension": ".py"
  },
  "kernelspec": {
   "name": "python3",
   "display_name": "Python 3.8.8 64-bit ('base': conda)"
  },
  "interpreter": {
   "hash": "c469c999aae2bf6d578d6881606ced546d1546d312a4811937df5b24665ee8bc"
  }
 },
 "nbformat": 4,
 "nbformat_minor": 2
}